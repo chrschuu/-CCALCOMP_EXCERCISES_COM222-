{
  "cells": [
    {
      "cell_type": "markdown",
      "metadata": {
        "id": "3-prKGbfwFRd"
      },
      "source": [
        "# Exercise 1"
      ]
    },
    {
      "cell_type": "markdown",
      "metadata": {
        "id": "kBW-_z9HwFRf"
      },
      "source": [
        "Please follow the instructions in each number. Do not remove or modify the pre-defined code!"
      ]
    },
    {
      "cell_type": "code",
      "execution_count": null,
      "metadata": {
        "id": "ABAdD_ngwFRg"
      },
      "outputs": [],
      "source": [
        "# Add a vertex to the set of vertices and the graph\n",
        "def add_vertex(v):\n",
        "  global graph\n",
        "  global vertices_no\n",
        "  global vertices\n",
        "  if v in vertices:\n",
        "    print(\"Vertex \", v, \" already exists\")\n",
        "  else:\n",
        "    vertices_no = vertices_no + 1\n",
        "    vertices.append(v)\n",
        "    if vertices_no > 1:\n",
        "        for vertex in graph:\n",
        "            vertex.append(0)\n",
        "    temp = []\n",
        "    for i in range(vertices_no):\n",
        "        temp.append(0)\n",
        "    graph.append(temp)\n",
        "\n",
        "# Add an edge between vertex v1 and v2 with edge weight e\n",
        "def add_edge(v1, v2, e):\n",
        "    global graph\n",
        "    global vertices_no\n",
        "    global vertices\n",
        "    # Check if vertex v1 is a valid vertex\n",
        "    if v1 not in vertices:\n",
        "        print(\"Vertex \", v1, \" does not exist.\")\n",
        "    # Check if vertex v1 is a valid vertex\n",
        "    elif v2 not in vertices:\n",
        "        print(\"Vertex \", v2, \" does not exist.\")\n",
        "    # Since this code is not restricted to a directed or\n",
        "    # an undirected graph, an edge between v1 v2 does not\n",
        "    # imply that an edge exists between v2 and v1\n",
        "    else:\n",
        "        index1 = vertices.index(v1)\n",
        "        index2 = vertices.index(v2)\n",
        "        graph[index1][index2] = e\n",
        "\n",
        "# Print the graph\n",
        "def print_graph():\n",
        "  global graph\n",
        "  global vertices_no\n",
        "  for i in range(vertices_no):\n",
        "    for j in range(vertices_no):\n",
        "      if graph[i][j] != 0:\n",
        "        print(vertices[i], \" -> \", vertices[j],\n",
        "              \" edge weight: \", graph[i][j])"
      ]
    },
    {
      "cell_type": "code",
      "execution_count": null,
      "metadata": {
        "id": "912w9tR0wFRh"
      },
      "outputs": [],
      "source": [
        "# stores the vertices in the graph\n",
        "vertices = []\n",
        "# stores the number of vertices in the graph\n",
        "vertices_no = 0\n",
        "graph = []"
      ]
    },
    {
      "cell_type": "markdown",
      "metadata": {
        "id": "lzkib3wYwFRh"
      },
      "source": [
        "<img src=\"https://github.com/robitussin/CCALCOMP_EXERCISES/blob/main/images/directed%20graph2.png?raw=true\"/>"
      ]
    },
    {
      "cell_type": "markdown",
      "metadata": {
        "id": "Qfh-2gbPwFRi"
      },
      "source": [
        "1. Print the edges and vertices of the graph in set representation. (`25 points`)"
      ]
    },
    {
      "cell_type": "code",
      "execution_count": 7,
      "metadata": {
        "id": "FSymqoxmwFRi",
        "colab": {
          "base_uri": "https://localhost:8080/"
        },
        "outputId": "8567e412-a618-462c-aaa3-120265acda0c"
      },
      "outputs": [
        {
          "output_type": "stream",
          "name": "stdout",
          "text": [
            "Vertices: A, B, C, D, E\n",
            "Edges:\n",
            "A->D | Cost: 60\n",
            "A->C | Cost: 12\n",
            "E->A | Cost: 7\n",
            "C->D | Cost: 32\n",
            "C->B | Cost: B\n",
            "B->A | Cost: 10\n"
          ]
        }
      ],
      "source": [
        "print(\"Vertices: A, B, C, D, E\")\n",
        "print(\"Edges:\\nA->D | Cost: 60\\nA->C | Cost: 12\\nE->A | Cost: 7\\nC->D | Cost: 32\\nC->B | Cost: B\\nB->A | Cost: 10\")"
      ]
    },
    {
      "cell_type": "markdown",
      "metadata": {
        "id": "NHt6QEFzwFRi"
      },
      "source": [
        "2. Implement the weighted graph in python code. Use the print_graph() function. (`25 points`)"
      ]
    },
    {
      "cell_type": "code",
      "execution_count": 13,
      "metadata": {
        "id": "fcYP9VF9wFRj",
        "colab": {
          "base_uri": "https://localhost:8080/"
        },
        "outputId": "c881277f-fe43-4541-c4cb-6beeaf4d1d61"
      },
      "outputs": [
        {
          "output_type": "stream",
          "name": "stdout",
          "text": [
            "A  ->  B  edge weight:  10\n",
            "A  ->  D  edge weight:  60\n",
            "B  ->  C  edge weight:  20\n",
            "C  ->  A  edge weight:  12\n",
            "D  ->  C  edge weight:  32\n",
            "E  ->  A  edge weight:  7\n"
          ]
        }
      ],
      "source": [
        "# Add a vertex to the set of vertices and the graph\n",
        "def add_vertex(v):\n",
        "    global graph\n",
        "    global vertices_no\n",
        "    global vertices\n",
        "    if v in vertices:\n",
        "        print(\"Vertex \", v, \" already exists\")\n",
        "    else:\n",
        "        vertices_no = vertices_no + 1\n",
        "        vertices.append(v)\n",
        "        if vertices_no > 1:\n",
        "            for vertex in graph:\n",
        "                vertex.append(0)\n",
        "        temp = []\n",
        "        for i in range(vertices_no):\n",
        "            temp.append(0)\n",
        "        graph.append(temp)\n",
        "\n",
        "# Add an edge between vertex v1 and v2 with edge weight e\n",
        "def add_edge(v1, v2, e):\n",
        "    global graph\n",
        "    global vertices_no\n",
        "    global vertices\n",
        "    # Check if vertex v1 is a valid vertex\n",
        "    if v1 not in vertices:\n",
        "        print(\"Vertex \", v1, \" does not exist.\")\n",
        "    # Check if vertex v2 is a valid vertex\n",
        "    elif v2 not in vertices:\n",
        "        print(\"Vertex \", v2, \" does not exist.\")\n",
        "    else:\n",
        "        index1 = vertices.index(v1)\n",
        "        index2 = vertices.index(v2)\n",
        "        graph[index1][index2] = e\n",
        "\n",
        "# Print the graph\n",
        "def print_graph():\n",
        "    global graph\n",
        "    global vertices_no\n",
        "    for i in range(vertices_no):\n",
        "        for j in range(vertices_no):\n",
        "            if graph[i][j] != 0:\n",
        "                print(vertices[i], \" -> \", vertices[j], \" edge weight: \", graph[i][j])\n",
        "\n",
        "\n",
        "# stores the vertices in the graph\n",
        "vertices = []\n",
        "# stores the number of vertices in the graph\n",
        "vertices_no = 0\n",
        "graph = []\n",
        "\n",
        "# Add vertices\n",
        "add_vertex('A')\n",
        "add_vertex('B')\n",
        "add_vertex('C')\n",
        "add_vertex('D')\n",
        "add_vertex('E')\n",
        "\n",
        "# Add edges with weights\n",
        "add_edge('A', 'B', 10)\n",
        "add_edge('E', 'A', 7)\n",
        "add_edge('B', 'C', 20)\n",
        "add_edge('C', 'A', 12)\n",
        "add_edge('A', 'D', 60)\n",
        "add_edge('D', 'C', 32)\n",
        "\n",
        "# Print the graph\n",
        "print_graph()"
      ]
    },
    {
      "cell_type": "markdown",
      "metadata": {
        "id": "kD-6afNTwFRj"
      },
      "source": [
        "3. (Travelling Salesman Problem)\n",
        "You decided to go on a trip around the philippines. Being a computer scientist, you wanted to find the route that would cost the least amount of money to travel all four cities. Find the route and print the total cost of the optimal route. (`50 points`)\n",
        "\n",
        "(Note: You can start at any origin (e.g. Manila))"
      ]
    },
    {
      "cell_type": "markdown",
      "metadata": {
        "id": "cBHIHSIewFRj"
      },
      "source": [
        "<img src=\"https://github.com/robitussin/CCALCOMP_EXERCISES/blob/main/images/trip.png?raw=true\" width=\"500\" height=\"600\"/>"
      ]
    },
    {
      "cell_type": "code",
      "execution_count": 10,
      "metadata": {
        "id": "yNwmvIXnwFRj",
        "colab": {
          "base_uri": "https://localhost:8080/"
        },
        "outputId": "9d313e80-84e3-4acf-ab36-b35b7755726c"
      },
      "outputs": [
        {
          "output_type": "stream",
          "name": "stdout",
          "text": [
            "Minimum cost: 6500 pesos\n",
            "Route: Manila->Tacloban->Puerto Princesa->Davao\n"
          ]
        }
      ],
      "source": [
        "import copy\n",
        "\n",
        "# Clear global data\n",
        "vertices = []\n",
        "num_vertices = 0\n",
        "graph = []\n",
        "\n",
        "# Define city names and edge details\n",
        "cities = ['Manila', 'Tacloban', 'Davao', 'Puerto Princesa']\n",
        "num_cities = len(cities)\n",
        "city_edges = [['Manila', 'Tacloban', 1000], ['Tacloban', 'Davao', 2000],\n",
        "              ['Davao', 'Puerto Princesa', 4000], ['Puerto Princesa', 'Manila', 8000],\n",
        "              ['Manila', 'Davao', 5000], ['Puerto Princesa', 'Tacloban', 1500]]\n",
        "\n",
        "# Function to add vertices to the graph\n",
        "def add_vertex(city):\n",
        "    vertices.append(city)\n",
        "\n",
        "# Function to add edges to the graph\n",
        "def add_edge(city1, city2, cost):\n",
        "    index1 = vertices.index(city1)\n",
        "    index2 = vertices.index(city2)\n",
        "    graph[index1][index2] = cost\n",
        "\n",
        "# Create graph\n",
        "for _ in range(num_cities):\n",
        "    graph.append([0] * num_cities)\n",
        "\n",
        "for city in cities:\n",
        "    add_vertex(city)\n",
        "\n",
        "for edge in city_edges:\n",
        "    add_edge(edge[0], edge[1], edge[2])\n",
        "    add_edge(edge[1], edge[0], edge[2])\n",
        "\n",
        "# Breadth-First Search (BFS)\n",
        "min_cost = float('inf')\n",
        "min_path = []\n",
        "\n",
        "queue = [[[i], 0] for i in range(num_cities)]\n",
        "\n",
        "while queue:\n",
        "    front = queue.pop(0)\n",
        "    visited = len(front[0])\n",
        "\n",
        "    if visited == num_cities:\n",
        "        if min_cost > front[1]:\n",
        "            min_path, min_cost = front\n",
        "            continue\n",
        "\n",
        "    for i in range(num_cities):\n",
        "        cost = graph[front[0][-1]][i]\n",
        "        if cost <= 0 or i in front[0]:\n",
        "            continue\n",
        "\n",
        "        temp = copy.deepcopy(front)\n",
        "        temp[0].append(i)\n",
        "        temp[1] += cost\n",
        "        queue.append(temp)\n",
        "\n",
        "# Output results\n",
        "route = '->'.join([cities[i] for i in min_path])\n",
        "print(f\"Minimum cost: {min_cost} pesos\")\n",
        "print(f\"Route: {route}\")"
      ]
    }
  ],
  "metadata": {
    "kernelspec": {
      "display_name": "base",
      "language": "python",
      "name": "python3"
    },
    "language_info": {
      "codemirror_mode": {
        "name": "ipython",
        "version": 3
      },
      "file_extension": ".py",
      "mimetype": "text/x-python",
      "name": "python",
      "nbconvert_exporter": "python",
      "pygments_lexer": "ipython3",
      "version": "3.9.6"
    },
    "colab": {
      "provenance": []
    }
  },
  "nbformat": 4,
  "nbformat_minor": 0
}